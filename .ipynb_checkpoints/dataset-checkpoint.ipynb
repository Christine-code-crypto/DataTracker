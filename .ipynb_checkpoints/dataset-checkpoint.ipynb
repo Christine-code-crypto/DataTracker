{
 "cells": [
  {
   "cell_type": "code",
   "execution_count": null,
   "id": "a1771efa",
   "metadata": {
    "vscode": {
     "languageId": "plaintext"
    }
   },
   "outputs": [],
   "source": [
    "import pandas as pd\n",
    "import matplotlib.pyplot as plt\n",
    "import seaborn as sns\n"
   ]
  },
  {
   "cell_type": "code",
   "execution_count": null,
   "id": "ff174c45",
   "metadata": {
    "vscode": {
     "languageId": "plaintext"
    }
   },
   "outputs": [],
   "source": [
    "# Load the Iris dataset from the UCI repository\n",
    "url = 'https://archive.ics.uci.edu/ml/machine-learning-databases/iris/iris.data'\n",
    "column_names = ['sepal_length', 'sepal_width', 'petal_length', 'petal_width', 'species']\n",
    "\n",
    "df = pd.read_csv(url, header=None, names=column_names)\n",
    "df.head()\n"
   ]
  },
  {
   "cell_type": "code",
   "execution_count": null,
   "id": "6fa8e479",
   "metadata": {
    "vscode": {
     "languageId": "plaintext"
    }
   },
   "outputs": [],
   "source": [
    "# Check data types and null values\n",
    "df.info()\n",
    "df.isnull().sum()\n",
    "\n",
    "# Fill missing values (if any) with the mean\n",
    "df = df.fillna(df.mean(numeric_only=True))\n"
   ]
  },
  {
   "cell_type": "code",
   "execution_count": null,
   "id": "af7d5231",
   "metadata": {
    "vscode": {
     "languageId": "plaintext"
    }
   },
   "outputs": [],
   "source": [
    "# Describe statistics\n",
    "df.describe()\n",
    "\n",
    "# Group by species and compute mean\n",
    "grouped = df.groupby('species').mean()\n",
    "grouped\n"
   ]
  },
  {
   "cell_type": "code",
   "execution_count": null,
   "id": "937bbe1a",
   "metadata": {
    "vscode": {
     "languageId": "plaintext"
    }
   },
   "outputs": [],
   "source": [
    "df.groupby('species')['petal_length'].mean().plot(kind='bar')\n",
    "\n",
    "plt.title('Average Petal Length by Species')\n",
    "plt.xlabel('Species')\n",
    "plt.ylabel('Average Petal Length')\n",
    "plt.show()\n"
   ]
  },
  {
   "cell_type": "code",
   "execution_count": null,
   "id": "60f39ac8",
   "metadata": {
    "vscode": {
     "languageId": "plaintext"
    }
   },
   "outputs": [],
   "source": [
    "df['sepal_length'].plot(kind='hist', bins=20)\n",
    "\n",
    "plt.title('Distribution of Sepal Length')\n",
    "plt.xlabel('Sepal Length')\n",
    "plt.ylabel('Frequency')\n",
    "plt.show()\n"
   ]
  },
  {
   "cell_type": "code",
   "execution_count": null,
   "id": "c17c979b",
   "metadata": {
    "vscode": {
     "languageId": "plaintext"
    }
   },
   "outputs": [],
   "source": [
    "plt.scatter(df['sepal_length'], df['petal_length'])\n",
    "\n",
    "plt.title('Sepal Length vs Petal Length')\n",
    "plt.xlabel('Sepal Length')\n",
    "plt.ylabel('Petal Length')\n",
    "plt.show()\n"
   ]
  },
  {
   "cell_type": "code",
   "execution_count": null,
   "id": "dc00a7aa",
   "metadata": {
    "vscode": {
     "languageId": "plaintext"
    }
   },
   "outputs": [],
   "source": [
    "sns.set(style=\"whitegrid\")\n",
    "\n",
    "sns.barplot(x='species', y='petal_length', data=df)\n",
    "plt.title('Average Petal Length by Species')\n",
    "plt.show()\n"
   ]
  },
  {
   "cell_type": "code",
   "execution_count": null,
   "id": "db190db1",
   "metadata": {
    "vscode": {
     "languageId": "plaintext"
    }
   },
   "outputs": [],
   "source": [
    "try:\n",
    "    df = pd.read_csv('your_dataset.csv')\n",
    "except FileNotFoundError:\n",
    "    print(\"Error: The dataset file was not found.\")\n",
    "except pd.errors.EmptyDataError:\n",
    "    print(\"Error: The dataset is empty.\")\n"
   ]
  }
 ],
 "metadata": {
  "language_info": {
   "name": "python"
  }
 },
 "nbformat": 4,
 "nbformat_minor": 5
}
